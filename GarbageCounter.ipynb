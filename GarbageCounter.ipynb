{
  "nbformat": 4,
  "nbformat_minor": 0,
  "metadata": {
    "colab": {
      "provenance": [],
      "gpuType": "T4",
      "authorship_tag": "ABX9TyNH9zpdEOzbdwUfU0p4gcAR",
      "include_colab_link": true
    },
    "kernelspec": {
      "name": "python3",
      "display_name": "Python 3"
    },
    "language_info": {
      "name": "python"
    },
    "accelerator": "GPU"
  },
  "cells": [
    {
      "cell_type": "markdown",
      "metadata": {
        "id": "view-in-github",
        "colab_type": "text"
      },
      "source": [
        "<a href=\"https://colab.research.google.com/github/st43r/GarbageCounter/blob/main/GarbageCounter.ipynb\" target=\"_parent\"><img src=\"https://colab.research.google.com/assets/colab-badge.svg\" alt=\"Open In Colab\"/></a>"
      ]
    },
    {
      "cell_type": "code",
      "execution_count": 2,
      "metadata": {
        "colab": {
          "base_uri": "https://localhost:8080/"
        },
        "id": "3k01e_mwIR-j",
        "outputId": "12231953-f6e8-4599-af2f-4fcbef4af77e"
      },
      "outputs": [
        {
          "output_type": "stream",
          "name": "stdout",
          "text": [
            "Mounted at /content/drive\n"
          ]
        }
      ],
      "source": [
        "from google.colab import drive\n",
        "drive.mount('/content/drive')"
      ]
    },
    {
      "cell_type": "code",
      "source": [
        "def convert_to_yolo_format(input_file, output_dir, class_mapping):\n",
        "    with open(input_file, 'r') as file:\n",
        "        lines = file.readlines()\n",
        "\n",
        "    for line in lines:\n",
        "        parts = line.strip().split(', ')\n",
        "        frame_number, object_id, label, x, y, w, h = map(float, parts[0:7])\n",
        "        class_name = class_mapping.get(int(label), 'unknown')\n",
        "\n",
        "        # Calculate YOLO format values\n",
        "        x_center = x\n",
        "        y_center = y\n",
        "        width = w\n",
        "        height = h\n",
        "\n",
        "        # Create YOLO annotation line\n",
        "        yolo_line = f\"{class_mapping[label]} {x_center} {y_center} {width} {height}\"\n",
        "\n",
        "        # Write the YOLO annotation to the output file\n",
        "        output_file = os.path.join(output_dir, f\"{int(frame_number):04d}.txt\")\n",
        "        with open(output_file, 'a') as yolo_file:\n",
        "            yolo_file.write(yolo_line + '\\n')\n"
      ],
      "metadata": {
        "id": "6gu_8biOIks9"
      },
      "execution_count": null,
      "outputs": []
    },
    {
      "cell_type": "code",
      "source": [
        "import os\n",
        "\n",
        "PATH = \"/content/drive/MyDrive/annotations/\"\n",
        "\n",
        "input_files =[\"video0.txt\",\"video1.txt\",\"video2.txt\"]\n",
        "output_dirs = [\"video0/\",\"video1/\",\"video2/\"]\n",
        "\n",
        "\n",
        "class_mapping = {\n",
        "  0: 0,\n",
        "  1: 1,\n",
        "  2: 2,\n",
        "  3: 3,\n",
        "}\n",
        "\n",
        "i = 0\n",
        "\n",
        "for file in input_files:\n",
        "\n",
        "  if not os.path.exists(PATH+output_dirs[i]):\n",
        "    os.makedirs(PATH+output_dirs[i])\n",
        "\n",
        "  convert_to_yolo_format(file, PATH+output_dirs[i], class_mapping)\n",
        "\n",
        "  i+=1"
      ],
      "metadata": {
        "id": "MnRsdSr8Irax"
      },
      "execution_count": null,
      "outputs": []
    },
    {
      "cell_type": "code",
      "source": [
        "import os\n",
        "\n",
        "folders = [\"video0\", \"video1\", \"video2\"]\n",
        "\n",
        "for folder in folders:\n",
        "  directory_path = '/content/drive/MyDrive/annotations/'+folder+'/'\n",
        "\n",
        "  files = [file for file in os.listdir(directory_path) if file.endswith('.txt')]\n",
        "\n",
        "  for file in files:\n",
        "    new_name = folder+file\n",
        "    new_path = directory_path+new_name\n",
        "\n",
        "    os.rename(directory_path+file, new_path)\n",
        "\n"
      ],
      "metadata": {
        "id": "gtyyXlxdPoql"
      },
      "execution_count": null,
      "outputs": []
    },
    {
      "cell_type": "code",
      "source": [
        "%pip install -q super-gradients\n",
        "%pip install -q roboflow\n",
        "%pip install -q supervision"
      ],
      "metadata": {
        "id": "HEKDE3VoLtnw"
      },
      "execution_count": null,
      "outputs": []
    },
    {
      "cell_type": "code",
      "source": [
        "import torch\n",
        "\n",
        "DEVICE = 'cuda' if torch.cuda.is_available() else \"cpu\"\n",
        "MODEL_ARCH = 'yolo_nas_l'"
      ],
      "metadata": {
        "id": "m3PvmI8ML4XB"
      },
      "execution_count": 3,
      "outputs": []
    },
    {
      "cell_type": "code",
      "source": [
        "DEVICE"
      ],
      "metadata": {
        "colab": {
          "base_uri": "https://localhost:8080/",
          "height": 38
        },
        "id": "XHZ8IxXtfTd1",
        "outputId": "f296f485-cba7-4bdc-d02a-57461ca160d8"
      },
      "execution_count": 4,
      "outputs": [
        {
          "output_type": "execute_result",
          "data": {
            "text/plain": [
              "'cuda'"
            ],
            "application/vnd.google.colaboratory.intrinsic+json": {
              "type": "string"
            }
          },
          "metadata": {},
          "execution_count": 4
        }
      ]
    },
    {
      "cell_type": "code",
      "source": [
        "from super_gradients.training import models\n",
        "\n",
        "model = models.get(MODEL_ARCH, pretrained_weights=\"coco\").to(DEVICE)"
      ],
      "metadata": {
        "id": "GWoHkw2dL7Cv"
      },
      "execution_count": null,
      "outputs": []
    },
    {
      "cell_type": "code",
      "source": [
        "!pip install roboflow\n",
        "\n",
        "from roboflow import Roboflow\n",
        "rf = Roboflow(api_key=\"RwY5mwZ8dTcek6gGhodh\")\n",
        "project = rf.workspace(\"garbagecounter\").project(\"garbagecounter\")\n",
        "dataset = project.version(4).download(\"yolov5\")"
      ],
      "metadata": {
        "id": "_9b_9-EBZdbT"
      },
      "execution_count": null,
      "outputs": []
    },
    {
      "cell_type": "code",
      "source": [
        "LOCATION = dataset.location\n",
        "print(\"location:\", LOCATION)\n",
        "CLASSES = sorted(project.classes.keys())\n",
        "print(\"classes:\", CLASSES)"
      ],
      "metadata": {
        "colab": {
          "base_uri": "https://localhost:8080/"
        },
        "id": "lEVL4vUOfgd7",
        "outputId": "04771dea-d1be-44a9-ecd9-5d41e361afca"
      },
      "execution_count": 10,
      "outputs": [
        {
          "output_type": "stream",
          "name": "stdout",
          "text": [
            "location: /content/GarbageCounter-4\n",
            "classes: ['glass', 'metal', 'plastic', 'wood']\n"
          ]
        }
      ]
    },
    {
      "cell_type": "code",
      "source": [
        "MODEL_ARCH = 'yolo_nas_l'\n",
        "BATCH_SIZE = 8\n",
        "MAX_EPOCHS = 64\n",
        "CHECKPOINT_DIR = \"/content/drive/MyDrive/chkpts\"\n",
        "EXPERIMENT_NAME = project.name.lower().replace(\" \", \"_\")"
      ],
      "metadata": {
        "id": "I479Ao1afvJY"
      },
      "execution_count": 11,
      "outputs": []
    },
    {
      "cell_type": "code",
      "source": [
        "from super_gradients.training import Trainer\n",
        "\n",
        "trainer = Trainer(experiment_name=EXPERIMENT_NAME, ckpt_root_dir=CHECKPOINT_DIR)"
      ],
      "metadata": {
        "id": "1OeJ3zEhg1ZZ"
      },
      "execution_count": 12,
      "outputs": []
    },
    {
      "cell_type": "code",
      "source": [
        "dataset_params = {\n",
        "    'data_dir': LOCATION,\n",
        "    'train_images_dir':'train/images',\n",
        "    'train_labels_dir':'train/labels',\n",
        "    'val_images_dir':'valid/images',\n",
        "    'val_labels_dir':'valid/labels',\n",
        "    'test_images_dir':'test/images',\n",
        "    'test_labels_dir':'test/labels',\n",
        "    'classes': CLASSES\n",
        "}"
      ],
      "metadata": {
        "id": "yW3iuL7eg3do"
      },
      "execution_count": 13,
      "outputs": []
    },
    {
      "cell_type": "code",
      "source": [
        "from super_gradients.training.dataloaders.dataloaders import (\n",
        "    coco_detection_yolo_format_train, coco_detection_yolo_format_val)\n",
        "\n",
        "train_data = coco_detection_yolo_format_train(\n",
        "    dataset_params={\n",
        "        'data_dir': dataset_params['data_dir'],\n",
        "        'images_dir': dataset_params['train_images_dir'],\n",
        "        'labels_dir': dataset_params['train_labels_dir'],\n",
        "        'classes': dataset_params['classes']\n",
        "    },\n",
        "    dataloader_params={\n",
        "        'batch_size': BATCH_SIZE,\n",
        "        'num_workers': 2\n",
        "    }\n",
        ")\n",
        "\n",
        "val_data = coco_detection_yolo_format_val(\n",
        "    dataset_params={\n",
        "        'data_dir': dataset_params['data_dir'],\n",
        "        'images_dir': dataset_params['val_images_dir'],\n",
        "        'labels_dir': dataset_params['val_labels_dir'],\n",
        "        'classes': dataset_params['classes']\n",
        "    },\n",
        "    dataloader_params={\n",
        "        'batch_size': BATCH_SIZE,\n",
        "        'num_workers': 2\n",
        "    }\n",
        ")\n",
        "\n",
        "test_data = coco_detection_yolo_format_val(\n",
        "    dataset_params={\n",
        "        'data_dir': dataset_params['data_dir'],\n",
        "        'images_dir': dataset_params['test_images_dir'],\n",
        "        'labels_dir': dataset_params['test_labels_dir'],\n",
        "        'classes': dataset_params['classes']\n",
        "    },\n",
        "    dataloader_params={\n",
        "        'batch_size': BATCH_SIZE,\n",
        "        'num_workers': 2\n",
        "    }\n",
        ")"
      ],
      "metadata": {
        "id": "TdyT67nEhFhf"
      },
      "execution_count": null,
      "outputs": []
    },
    {
      "cell_type": "code",
      "source": [
        "from super_gradients.training import models\n",
        "\n",
        "model = models.get(\n",
        "    MODEL_ARCH,\n",
        "    num_classes=len(dataset_params['classes']),\n",
        "    pretrained_weights=\"coco\"\n",
        ")"
      ],
      "metadata": {
        "id": "Ca2O_hJZhMlO"
      },
      "execution_count": null,
      "outputs": []
    },
    {
      "cell_type": "code",
      "source": [
        "best_model = models.get(\n",
        "    MODEL_ARCH,\n",
        "    num_classes=len(dataset_params['classes']),\n",
        "    checkpoint_path=\"/content/drive/MyDrive/chkpts/garbagecounter/RUN_20231027_154205_763181/average_model.pth\"\n",
        ").to(DEVICE)"
      ],
      "metadata": {
        "id": "fTV4aEzdYbqx",
        "colab": {
          "base_uri": "https://localhost:8080/"
        },
        "outputId": "8b1aa7fb-6f81-426c-fd96-252e9530ba0a"
      },
      "execution_count": 15,
      "outputs": [
        {
          "output_type": "stream",
          "name": "stderr",
          "text": [
            "[2023-10-27 18:34:12] INFO - checkpoint_utils.py - Successfully loaded model weights from /content/drive/MyDrive/chkpts/garbagecounter/RUN_20231027_154205_763181/average_model.pth EMA checkpoint.\n"
          ]
        }
      ]
    },
    {
      "cell_type": "code",
      "source": [
        "from super_gradients.training.losses import PPYoloELoss\n",
        "from super_gradients.training.metrics import DetectionMetrics_050\n",
        "from super_gradients.training.models.detection_models.pp_yolo_e import PPYoloEPostPredictionCallback\n",
        "\n",
        "train_params = {\n",
        "    'silent_mode': False,\n",
        "    \"average_best_models\":True,\n",
        "    \"warmup_mode\": \"linear_epoch_step\",\n",
        "    \"warmup_initial_lr\": 1e-6,\n",
        "    \"lr_warmup_epochs\": 3,\n",
        "    \"initial_lr\": 5e-4,\n",
        "    \"lr_mode\": \"cosine\",\n",
        "    \"cosine_final_lr_ratio\": 0.1,\n",
        "    \"optimizer\": \"AdamW\",\n",
        "    \"optimizer_params\": {\"weight_decay\": 0.0001},\n",
        "    \"zero_weight_decay_on_bias_and_bn\": True,\n",
        "    \"ema\": True,\n",
        "    \"ema_params\": {\"decay\": 0.9, \"decay_type\": \"threshold\"},\n",
        "    \"max_epochs\": MAX_EPOCHS,\n",
        "    \"mixed_precision\": True,\n",
        "    \"loss\": PPYoloELoss(\n",
        "        use_static_assigner=False,\n",
        "        num_classes=len(dataset_params['classes']),\n",
        "        reg_max=16\n",
        "    ),\n",
        "    \"valid_metrics_list\": [\n",
        "        DetectionMetrics_050(\n",
        "            score_thres=0.1,\n",
        "            top_k_predictions=300,\n",
        "            num_cls=len(dataset_params['classes']),\n",
        "            normalize_targets=True,\n",
        "            post_prediction_callback=PPYoloEPostPredictionCallback(\n",
        "                score_threshold=0.01,\n",
        "                nms_top_k=1000,\n",
        "                max_predictions=300,\n",
        "                nms_threshold=0.7\n",
        "            )\n",
        "        )\n",
        "    ],\n",
        "    \"metric_to_watch\": 'mAP@0.50'\n",
        "}"
      ],
      "metadata": {
        "id": "XPGvWdoDhUu-"
      },
      "execution_count": 16,
      "outputs": []
    },
    {
      "cell_type": "code",
      "source": [
        "trainer.train(\n",
        "    model=best_model,\n",
        "    training_params=train_params,\n",
        "    train_loader=train_data,\n",
        "    valid_loader=val_data\n",
        ")"
      ],
      "metadata": {
        "colab": {
          "base_uri": "https://localhost:8080/"
        },
        "id": "0LPjbRLnhhwk",
        "outputId": "661c5caa-d2c6-4eb5-dd17-083968e4a235"
      },
      "execution_count": null,
      "outputs": [
        {
          "output_type": "stream",
          "name": "stderr",
          "text": [
            "[2023-10-27 18:34:33] INFO - sg_trainer.py - Starting a new run with `run_id=RUN_20231027_183433_903009`\n",
            "[2023-10-27 18:34:33] INFO - sg_trainer.py - Checkpoints directory: /content/drive/MyDrive/chkpts/garbagecounter/RUN_20231027_183433_903009\n",
            "[2023-10-27 18:34:33] INFO - sg_trainer.py - Using EMA with params {'decay': 0.9, 'decay_type': 'threshold'}\n",
            "Object name `linear_epoch_step` is now deprecated. Please replace it with `LinearEpochLRWarmup`.\n"
          ]
        },
        {
          "output_type": "stream",
          "name": "stdout",
          "text": [
            "The console stream is now moved to /content/drive/MyDrive/chkpts/garbagecounter/RUN_20231027_183433_903009/console_Oct27_18_34_33.txt\n"
          ]
        },
        {
          "output_type": "stream",
          "name": "stderr",
          "text": [
            "[2023-10-27 18:34:36] INFO - sg_trainer_utils.py - TRAINING PARAMETERS:\n",
            "    - Mode:                         Single GPU\n",
            "    - Number of GPUs:               1          (1 available on the machine)\n",
            "    - Full dataset size:            2139       (len(train_set))\n",
            "    - Batch size per GPU:           8          (batch_size)\n",
            "    - Batch Accumulate:             1          (batch_accumulate)\n",
            "    - Total batch size:             8          (num_gpus * batch_size)\n",
            "    - Effective Batch size:         8          (num_gpus * batch_size * batch_accumulate)\n",
            "    - Iterations per epoch:         267        (len(train_loader))\n",
            "    - Gradient updates per epoch:   267        (len(train_loader) / batch_accumulate)\n",
            "\n",
            "[2023-10-27 18:34:36] INFO - sg_trainer.py - Started training for 64 epochs (0/63)\n",
            "\n",
            "Train epoch 0: 100%|██████████| 267/267 [03:46<00:00,  1.18it/s, PPYoloELoss/loss=1.5, PPYoloELoss/loss_cls=0.687, PPYoloELoss/loss_dfl=0.913, PPYoloELoss/loss_iou=0.142, gpu_mem=10.5]\n",
            "Validating: 100%|██████████| 26/26 [00:11<00:00,  2.25it/s]\n",
            "[2023-10-27 18:38:48] INFO - base_sg_logger.py - Checkpoint saved in /content/drive/MyDrive/chkpts/garbagecounter/RUN_20231027_183433_903009/ckpt_best.pth\n",
            "[2023-10-27 18:38:48] INFO - sg_trainer.py - Best checkpoint overriden: validation mAP@0.50: 0.9343646764755249\n"
          ]
        },
        {
          "output_type": "stream",
          "name": "stdout",
          "text": [
            "===========================================================\n",
            "SUMMARY OF EPOCH 0\n",
            "├── Train\n",
            "│   ├── Ppyoloeloss/loss_cls = 0.687\n",
            "│   ├── Ppyoloeloss/loss_iou = 0.1421\n",
            "│   ├── Ppyoloeloss/loss_dfl = 0.9131\n",
            "│   └── Ppyoloeloss/loss = 1.4989\n",
            "└── Validation\n",
            "    ├── Ppyoloeloss/loss_cls = 0.5807\n",
            "    ├── Ppyoloeloss/loss_iou = 0.1007\n",
            "    ├── Ppyoloeloss/loss_dfl = 0.8274\n",
            "    ├── Ppyoloeloss/loss = 1.2461\n",
            "    ├── Precision@0.50 = 0.1154\n",
            "    ├── Recall@0.50 = 0.9734\n",
            "    ├── Map@0.50 = 0.9344\n",
            "    └── F1@0.50 = 0.2015\n",
            "\n",
            "===========================================================\n"
          ]
        },
        {
          "output_type": "stream",
          "name": "stderr",
          "text": [
            "Train epoch 1: 100%|██████████| 267/267 [03:39<00:00,  1.22it/s, PPYoloELoss/loss=1.47, PPYoloELoss/loss_cls=0.673, PPYoloELoss/loss_dfl=0.897, PPYoloELoss/loss_iou=0.139, gpu_mem=11.1]\n",
            "Validating epoch 1: 100%|██████████| 26/26 [00:11<00:00,  2.17it/s]\n",
            "[2023-10-27 18:42:59] INFO - base_sg_logger.py - Checkpoint saved in /content/drive/MyDrive/chkpts/garbagecounter/RUN_20231027_183433_903009/ckpt_best.pth\n",
            "[2023-10-27 18:42:59] INFO - sg_trainer.py - Best checkpoint overriden: validation mAP@0.50: 0.9408587217330933\n"
          ]
        },
        {
          "output_type": "stream",
          "name": "stdout",
          "text": [
            "===========================================================\n",
            "SUMMARY OF EPOCH 1\n",
            "├── Train\n",
            "│   ├── Ppyoloeloss/loss_cls = 0.6732\n",
            "│   │   ├── Epoch N-1      = 0.687  (\u001b[32m↘ -0.0138\u001b[0m)\n",
            "│   │   └── Best until now = 0.687  (\u001b[32m↘ -0.0138\u001b[0m)\n",
            "│   ├── Ppyoloeloss/loss_iou = 0.1385\n",
            "│   │   ├── Epoch N-1      = 0.1421 (\u001b[32m↘ -0.0036\u001b[0m)\n",
            "│   │   └── Best until now = 0.1421 (\u001b[32m↘ -0.0036\u001b[0m)\n",
            "│   ├── Ppyoloeloss/loss_dfl = 0.8968\n",
            "│   │   ├── Epoch N-1      = 0.9131 (\u001b[32m↘ -0.0163\u001b[0m)\n",
            "│   │   └── Best until now = 0.9131 (\u001b[32m↘ -0.0163\u001b[0m)\n",
            "│   └── Ppyoloeloss/loss = 1.4678\n",
            "│       ├── Epoch N-1      = 1.4989 (\u001b[32m↘ -0.0311\u001b[0m)\n",
            "│       └── Best until now = 1.4989 (\u001b[32m↘ -0.0311\u001b[0m)\n",
            "└── Validation\n",
            "    ├── Ppyoloeloss/loss_cls = 0.5549\n",
            "    │   ├── Epoch N-1      = 0.5807 (\u001b[32m↘ -0.0258\u001b[0m)\n",
            "    │   └── Best until now = 0.5807 (\u001b[32m↘ -0.0258\u001b[0m)\n",
            "    ├── Ppyoloeloss/loss_iou = 0.0998\n",
            "    │   ├── Epoch N-1      = 0.1007 (\u001b[32m↘ -0.0009\u001b[0m)\n",
            "    │   └── Best until now = 0.1007 (\u001b[32m↘ -0.0009\u001b[0m)\n",
            "    ├── Ppyoloeloss/loss_dfl = 0.8229\n",
            "    │   ├── Epoch N-1      = 0.8274 (\u001b[32m↘ -0.0044\u001b[0m)\n",
            "    │   └── Best until now = 0.8274 (\u001b[32m↘ -0.0044\u001b[0m)\n",
            "    ├── Ppyoloeloss/loss = 1.2158\n",
            "    │   ├── Epoch N-1      = 1.2461 (\u001b[32m↘ -0.0303\u001b[0m)\n",
            "    │   └── Best until now = 1.2461 (\u001b[32m↘ -0.0303\u001b[0m)\n",
            "    ├── Precision@0.50 = 0.1326\n",
            "    │   ├── Epoch N-1      = 0.1154 (\u001b[32m↗ 0.0173\u001b[0m)\n",
            "    │   └── Best until now = 0.1154 (\u001b[32m↗ 0.0173\u001b[0m)\n",
            "    ├── Recall@0.50 = 0.9753\n",
            "    │   ├── Epoch N-1      = 0.9734 (\u001b[32m↗ 0.0019\u001b[0m)\n",
            "    │   └── Best until now = 0.9734 (\u001b[32m↗ 0.0019\u001b[0m)\n",
            "    ├── Map@0.50 = 0.9409\n",
            "    │   ├── Epoch N-1      = 0.9344 (\u001b[32m↗ 0.0065\u001b[0m)\n",
            "    │   └── Best until now = 0.9344 (\u001b[32m↗ 0.0065\u001b[0m)\n",
            "    └── F1@0.50 = 0.2282\n",
            "        ├── Epoch N-1      = 0.2015 (\u001b[32m↗ 0.0267\u001b[0m)\n",
            "        └── Best until now = 0.2015 (\u001b[32m↗ 0.0267\u001b[0m)\n",
            "\n",
            "===========================================================\n"
          ]
        },
        {
          "output_type": "stream",
          "name": "stderr",
          "text": [
            "Train epoch 2: 100%|██████████| 267/267 [03:40<00:00,  1.21it/s, PPYoloELoss/loss=1.49, PPYoloELoss/loss_cls=0.685, PPYoloELoss/loss_dfl=0.907, PPYoloELoss/loss_iou=0.143, gpu_mem=9.55]\n",
            "Validating epoch 2: 100%|██████████| 26/26 [00:12<00:00,  2.14it/s]\n"
          ]
        },
        {
          "output_type": "stream",
          "name": "stdout",
          "text": [
            "===========================================================\n",
            "SUMMARY OF EPOCH 2\n",
            "├── Train\n",
            "│   ├── Ppyoloeloss/loss_cls = 0.6847\n",
            "│   │   ├── Epoch N-1      = 0.6732 (\u001b[31m↗ 0.0115\u001b[0m)\n",
            "│   │   └── Best until now = 0.6732 (\u001b[31m↗ 0.0115\u001b[0m)\n",
            "│   ├── Ppyoloeloss/loss_iou = 0.1427\n",
            "│   │   ├── Epoch N-1      = 0.1385 (\u001b[31m↗ 0.0042\u001b[0m)\n",
            "│   │   └── Best until now = 0.1385 (\u001b[31m↗ 0.0042\u001b[0m)\n",
            "│   ├── Ppyoloeloss/loss_dfl = 0.9068\n",
            "│   │   ├── Epoch N-1      = 0.8968 (\u001b[31m↗ 0.01\u001b[0m)\n",
            "│   │   └── Best until now = 0.8968 (\u001b[31m↗ 0.01\u001b[0m)\n",
            "│   └── Ppyoloeloss/loss = 1.4948\n",
            "│       ├── Epoch N-1      = 1.4678 (\u001b[31m↗ 0.0269\u001b[0m)\n",
            "│       └── Best until now = 1.4678 (\u001b[31m↗ 0.0269\u001b[0m)\n",
            "└── Validation\n",
            "    ├── Ppyoloeloss/loss_cls = 0.6042\n",
            "    │   ├── Epoch N-1      = 0.5549 (\u001b[31m↗ 0.0494\u001b[0m)\n",
            "    │   └── Best until now = 0.5549 (\u001b[31m↗ 0.0494\u001b[0m)\n",
            "    ├── Ppyoloeloss/loss_iou = 0.1041\n",
            "    │   ├── Epoch N-1      = 0.0998 (\u001b[31m↗ 0.0044\u001b[0m)\n",
            "    │   └── Best until now = 0.0998 (\u001b[31m↗ 0.0044\u001b[0m)\n",
            "    ├── Ppyoloeloss/loss_dfl = 0.8373\n",
            "    │   ├── Epoch N-1      = 0.8229 (\u001b[31m↗ 0.0143\u001b[0m)\n",
            "    │   └── Best until now = 0.8229 (\u001b[31m↗ 0.0143\u001b[0m)\n",
            "    ├── Ppyoloeloss/loss = 1.2832\n",
            "    │   ├── Epoch N-1      = 1.2158 (\u001b[31m↗ 0.0674\u001b[0m)\n",
            "    │   └── Best until now = 1.2158 (\u001b[31m↗ 0.0674\u001b[0m)\n",
            "    ├── Precision@0.50 = 0.1183\n",
            "    │   ├── Epoch N-1      = 0.1326 (\u001b[31m↘ -0.0143\u001b[0m)\n",
            "    │   └── Best until now = 0.1326 (\u001b[31m↘ -0.0143\u001b[0m)\n",
            "    ├── Recall@0.50 = 0.9748\n",
            "    │   ├── Epoch N-1      = 0.9753 (\u001b[31m↘ -0.0005\u001b[0m)\n",
            "    │   └── Best until now = 0.9753 (\u001b[31m↘ -0.0005\u001b[0m)\n",
            "    ├── Map@0.50 = 0.9233\n",
            "    │   ├── Epoch N-1      = 0.9409 (\u001b[31m↘ -0.0175\u001b[0m)\n",
            "    │   └── Best until now = 0.9409 (\u001b[31m↘ -0.0175\u001b[0m)\n",
            "    └── F1@0.50 = 0.2065\n",
            "        ├── Epoch N-1      = 0.2282 (\u001b[31m↘ -0.0217\u001b[0m)\n",
            "        └── Best until now = 0.2282 (\u001b[31m↘ -0.0217\u001b[0m)\n",
            "\n",
            "===========================================================\n"
          ]
        },
        {
          "output_type": "stream",
          "name": "stderr",
          "text": [
            "Train epoch 3: 100%|██████████| 267/267 [03:40<00:00,  1.21it/s, PPYoloELoss/loss=1.55, PPYoloELoss/loss_cls=0.707, PPYoloELoss/loss_dfl=0.93, PPYoloELoss/loss_iou=0.149, gpu_mem=12]\n",
            "Validating epoch 3: 100%|██████████| 26/26 [00:12<00:00,  2.14it/s]\n"
          ]
        }
      ]
    }
  ]
}